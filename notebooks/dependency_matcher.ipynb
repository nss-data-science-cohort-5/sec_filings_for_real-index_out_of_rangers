{
 "cells": [
  {
   "cell_type": "code",
   "execution_count": 1,
   "id": "6af58420",
   "metadata": {},
   "outputs": [],
   "source": [
    "import re\n",
    "import glob\n",
    "from tqdm.notebook import tqdm\n",
    "import pandas as pd\n",
    "import numpy as np\n",
    "\n",
    "from nltk import sent_tokenize, word_tokenize, regexp_tokenize\n",
    "from nltk.corpus import stopwords\n",
    "\n",
    "from collections import Counter\n",
    "\n",
    "import requests\n",
    "from bs4 import BeautifulSoup as BS\n",
    "from tqdm.notebook import tqdm\n",
    "import codecs\n",
    "import html5lib\n",
    "from IPython.core.display import HTML\n",
    "\n",
    "from spacy.lang.en import English\n",
    "import spacy\n",
    "\n",
    "from spacy.matcher import Matcher\n",
    "from spacy.matcher import PhraseMatcher\n",
    "\n",
    "from nltk.tokenize import word_tokenize, sent_tokenize\n",
    "from collections import defaultdict\n",
    "from spacy import displacy"
   ]
  },
  {
   "cell_type": "code",
   "execution_count": 2,
   "id": "7248c47a",
   "metadata": {},
   "outputs": [],
   "source": [
    "globs = glob.glob('../data/*.htm') + glob.glob('../data/*.html')"
   ]
  },
  {
   "cell_type": "code",
   "execution_count": 21,
   "id": "63d8726c",
   "metadata": {},
   "outputs": [
    {
     "data": {
      "text/plain": [
       "'../data\\\\cnxc-20211130.htm'"
      ]
     },
     "execution_count": 21,
     "metadata": {},
     "output_type": "execute_result"
    }
   ],
   "source": [
    "globs[1]"
   ]
  },
  {
   "cell_type": "code",
   "execution_count": 13,
   "id": "307e915b",
   "metadata": {},
   "outputs": [],
   "source": [
    "globs[20]\n",
    "with open('../data/amrk-10k_20210630.htm') as fi:\n",
    "    file_html = fi.read()"
   ]
  },
  {
   "cell_type": "code",
   "execution_count": 16,
   "id": "247ecee9",
   "metadata": {},
   "outputs": [
    {
     "name": "stdout",
     "output_type": "stream",
     "text": [
      "FALSE2021FY0001803599P4Y0.0050.005http://fasb.org/us-gaap/2021-01-31#OtherAssetsNoncurrenthttp://fasb.org/us-gaap/2021-01-31#OtherAssetsNoncurrenthttp://fasb.org/us-gaap/2021-01-31#OtherAssetsNoncurrenthttp://fasb.org/us-gaap/2021-01-31#OtherAccruedLiabilitiesCurrenthttp://fasb.org/us-gaap/2021-01-31#OtherAccruedLiabilitiesCurrenthttp://fasb.org/us-gaap/2021-01-31#OtherAccruedLiabilitiesCurrenthttp://fasb.org/us-gaap/2021-01-31#OtherLiabilitiesNoncurrenthttp://fasb.org/us-gaap/2021-01-31#OtherLiabilitiesNoncurrenthttp://fasb.org/us-gaap/2021-01-31#OtherLiabilitiesNoncurrent00018035992020-12-012021-11-3000018035992021-05-28iso4217:USD00018035992022-01-17xbrli:shares00018035992021-11-3000018035992020-11-30iso4217:USDxbrli:shares00018035992019-12-012020-11-3000018035992018-12-012019-11-300001803599us-gaap:CommonStockMember2018-11-300001803599us-gaap:AdditionalPaidInCapitalMember2018-11-300001803599us-gaap:TreasuryStockMember2018-11-300001803599us-gaap:RetainedEarningsMember2018-11-300001803599cnxc:FormerParentCompanyInvestmentMember2018-11-300001803599us-gaap:AccumulatedOtherComprehensiveIncomeMember2018-11-3000018035992018-11-300001803599cnxc:FormerParentCompanyInvestmentMember2018-12-012019-11-300001803599us-gaap:AccumulatedOtherComprehensiveIncomeMember2018-12-012019-11-300001803599us-gaap:CommonStockMember2019-11-300001803599us-gaap:AdditionalPaidInCapitalMember2019-11-300001803599us-gaap:TreasuryStockMember2019-11-300001803599us-gaap:RetainedEarningsMember2019-11-300001803599cnxc:FormerParentCompanyInvestmentMember2019-11-300001803599us-gaap:AccumulatedOtherComprehensiveIncomeMember2019-11-3000018035992019-11-300001803599cnxc:FormerParentCompanyInvestmentMember2019-12-012020-11-300001803599us-gaap:AccumulatedOtherComprehensiveIncomeMember2019-12-012020-11-300001803599us-gaap:CommonStockMember2020-11-300001803599us-gaap:AdditionalPaidInCapitalMember2020-11-300001803599us-gaap:TreasuryStockMember2020-11-300001803599us-gaap:RetainedEarningsMember2020-11-300001803599cnxc:FormerParentCompanyInvestmentMember2020-11-300001803599us-gaap:AccumulatedOtherComprehensiveIncomeMember2020-11-300001803599us-gaap:AccumulatedOtherComprehensiveIncomeMember2020-12-012021-11-300001803599us-gaap:AdditionalPaidInCapitalMember2020-12-012021-11-300001803599cnxc:FormerParentCompanyInvestmentMember2020-12-012021-11-300001803599us-gaap:CommonStockMember2020-12-012021-11-300001803599us-gaap:TreasuryStockMember2020-12-012021-11-300001803599us-gaap:RetainedEarningsMember2020-12-012021-11-300001803599us-gaap:CommonStockMember2021-11-300001803599us-gaap:AdditionalPaidInCapitalMember2021-11-300001803599us-gaap:TreasuryStockMember2021-11-300001803599us-gaap:RetainedEarningsMember2021-11-300001803599cnxc:FormerParentCompanyInvestmentMember2021-11-300001803599us-gaap:AccumulatedOtherComprehensiveIncomeMember2021-11-30cnxc:market00018035992020-12-012020-12-01xbrli:pure0001803599srt:MinimumMemberus-gaap:FurnitureAndFixturesMember2020-12-012021-11-300001803599srt:MaximumMemberus-gaap:FurnitureAndFixturesMember2020-12-012021-11-300001803599srt:MinimumMemberus-gaap:SoftwareDevelopmentMember2020-12-012021-11-300001803599us-gaap:SoftwareDevelopmentMembersrt:MaximumMember2020-12-012021-11-300001803599srt:MinimumMemberus-gaap:LeaseholdImprovementsMember2020-12-012021-11-300001803599us-gaap:LeaseholdImprovementsMembersrt:MaximumMember2020-12-012021-11-300001803599srt:MinimumMemberus-gaap:BuildingAndBuildingImprovementsMember2020-12-012021-11-300001803599srt:MaximumMemberus-gaap:BuildingAndBuildingImprovementsMember2020-12-012021-11-300001803599srt:MinimumMemberus-gaap:CustomerRelationshipsMember2020-12-012021-11-300001803599srt:MaximumMemberus-gaap:CustomerRelationshipsMember2020-12-012021-11-300001803599us-gaap:TechnologyBasedIntangibleAssetsMember2020-12-012021-11-300001803599us-gaap:TradeNamesMember2020-12-012021-11-300001803599cnxc:OneClientMemberus-gaap:SalesRevenueNetMemberus-gaap:CustomerConcentrationRiskMember2020-12-012021-11-300001803599cnxc:OneClientMemberus-gaap:SalesRevenueNetMemberus-gaap:CustomerConcentrationRiskMember2019-12-012020-11-300001803599cnxc:OneClientMemberus-gaap:SalesRevenueNetMemberus-gaap:CustomerConcentrationRiskMember2018-12-012019-11-300001803599cnxc:OneClientMemberus-gaap:CustomerConcentrationRiskMemberus-gaap:AccountsReceivableMember2020-12-012021-11-300001803599cnxc:OneClientMemberus-gaap:CustomerConcentrationRiskMemberus-gaap:AccountsReceivableMember2019-12-012020-11-3000018035992019-12-010001803599cnxc:PKMemberus-gaap:SubsequentEventMember2021-12-27cnxc:staff0001803599cnxc:PKMemberus-gaap:SubsequentEventMember2021-12-272021-12-270001803599cnxc:ConcentrixInsuranceSolutionsMemberus-gaap:DisposalGroupHeldforsaleNotDiscontinuedOperationsMember2021-07-012021-07-310001803599us-gaap:EmployeeStockMember2020-11-300001803599cnxc:RestrictedStockAwardsRestrictedStockUnitsAndPerformanceBasedRestrictedStockUnitsMember2020-12-012020-12-010001803599us-gaap:EmployeeStockOptionMember2020-12-012020-12-010001803599us-gaap:EmployeeStockMember2020-12-012021-11-3000018035992020-12-010001803599us-gaap:EmployeeStockOptionMember2021-11-300001803599us-gaap:EmployeeStockOptionMember2020-12-012021-11-300001803599srt:MinimumMembercnxc:RestrictedStockAwardsRestrictedStockUnitsAndPerformanceBasedRestrictedStockUnitsMember2020-12-012021-11-300001803599cnxc:RestrictedStockAwardsRestrictedStockUnitsAndPerformanceBasedRestrictedStockUnitsMembersrt:MaximumMember2020-12-012021-11-300001803599cnxc:RestrictedStockAwardsRestrictedStockUnitsAndPerformanceBasedRestrictedStockUnitsMember2018-11-300001803599us-gaap:RestrictedStockMember2018-12-012019-11-300001803599us-gaap:RestrictedStockUnitsRSUMember2018-12-012019-11-300001803599cnxc:RestrictedStockAwardsRestrictedStockUnitsAndPerformanceBasedRestrictedStockUnitsMember2018-12-012019-11-300001803599cnxc:RestrictedStockAwardsRestrictedStockUnitsAndPerformanceBasedRestrictedStockUnitsMember2019-11-300001803599us-gaap:RestrictedStockMember2019-12-012020-11-300001803599us-gaap:RestrictedStockUnitsRSUMember2019-12-012020-11-300001803599cnxc:RestrictedStockAwardsRestrictedStockUnitsAndPerformanceBasedRestrictedStockUnitsMember2019-12-012020-11-300001803599cnxc:RestrictedStockAwardsRestrictedStockUnitsAndPerformanceBasedRestrictedStockUnitsMember2020-11-300001803599cnxc:RestrictedStockAwardsRestrictedStockUnitsAndPerformanceBasedRestrictedStockUnitsMember2020-12-010001803599us-gaap:RestrictedStockMember2020-12-012021-11-300001803599us-gaap:RestrictedStockUnitsRSUMember2020-12-012021-11-300001803599cnxc:RestrictedStockAwardsRestrictedStockUnitsAndPerformanceBasedRestrictedStockUnitsMember2020-12-012021-11-300001803599cnxc:RestrictedStockAwardsRestrictedStockUnitsAndPerformanceBasedRestrictedStockUnitsMember2021-11-300001803599us-gaap:BilledRevenuesMember2021-11-300001803599us-gaap:BilledRevenuesMember2020-11-300001803599us-gaap:UnbilledRevenuesMember2021-11-300001803599us-gaap:UnbilledRevenuesMember2020-11-300001803599us-gaap:LandMember2021-11-300001803599us-gaap:LandMember2020-11-300001803599us-gaap:MachineryAndEquipmentMember2021-11-300001803599us-gaap:MachineryAndEquipmentMember2020-11-300001803599us-gaap:FurnitureAndFixturesMember2021-11-300001803599us-gaap:FurnitureAndFixturesMember2020-11-300001803599us-gaap:BuildingAndBuildingImprovementsMember2021-11-300001803599us-gaap:BuildingAndBuildingImprovementsMember2020-11-300001803599us-gaap:ConstructionInProgressMember2021-11-300001803599us-gaap:ConstructionInProgressMember2020-11-300001803599country:US2021-11-300001803599country:US2020-11-300001803599country:PH2021-11-300001803599country:PH2020-11-300001803599country:IN2021-11-300001803599country:IN2020-11-300001803599cnxc:OtherGeographicLocationsMember2021-11-300001803599cnxc:OtherGeographicLocationsMember2020-11-300001803599us-gaap:AccumulatedDefinedBenefitPlansAdjustmentMember2019-11-300001803599us-gaap:AccumulatedNetGainLossFromDesignatedOrQualifyingCashFlowHedgesMember2019-11-300001803599us-gaap:AccumulatedTranslationAdjustmentMember2019-11-300001803599us-gaap:AccumulatedDefinedBenefitPlansAdjustmentMember2019-12-012020-11-300001803599us-gaap:AccumulatedNetGainLossFromDesignatedOrQualifyingCashFlowHedgesMember2019-12-012020-11-300001803599us-gaap:AccumulatedTranslationAdjustmentMember2019-12-012020-11-300001803599us-gaap:AccumulatedDefinedBenefitPlansAdjustmentMember2020-11-300001803599us-gaap:AccumulatedNetGainLossFromDesignatedOrQualifyingCashFlowHedgesMember2020-11-300001803599us-gaap:AccumulatedTranslationAdjustmentMember2020-11-300001803599us-gaap:AccumulatedDefinedBenefitPlansAdjustmentMember2020-12-012021-11-300001803599us-gaap:AccumulatedNetGainLossFromDesignatedOrQualifyingCashFlowHedgesMember2020-12-012021-11-300001803599us-gaap:AccumulatedTranslationAdjustmentMember2020-12-012021-11-300001803599us-gaap:AccumulatedDefinedBenefitPlansAdjustmentMember2021-11-300001803599us-gaap:AccumulatedNetGainLossFromDesignatedOrQualifyingCashFlowHedgesMember2021-11-300001803599us-gaap:AccumulatedTranslationAdjustmentMember2021-11-300001803599us-gaap:EmployeeSeveranceMember2019-11-300001803599us-gaap:FacilityClosingMember2019-11-300001803599us-gaap:EmployeeSeveranceMember2019-12-012020-11-300001803599us-gaap:FacilityClosingMember2019-12-012020-11-300001803599us-gaap:EmployeeSeveranceMember2020-11-300001803599us-gaap:FacilityClosingMember2020-11-300001803599us-gaap:EmployeeSeveranceMember2020-12-012021-11-300001803599us-gaap:FacilityClosingMember2020-12-012021-11-300001803599us-gaap:EmployeeSeveranceMember2021-11-300001803599us-gaap:FacilityClosingMember2021-11-300001803599us-gaap:CustomerRelationshipsMember2021-11-300001803599us-gaap:CustomerRelationshipsMember2020-11-300001803599us-gaap:TechnologyBasedIntangibleAssetsMember2021-11-300001803599us-gaap:TechnologyBasedIntangibleAssetsMember2020-11-300001803599us-gaap:TradeNamesMember2021-11-300001803599us-gaap:TradeNamesMember2020-11-300001803599us-gaap:NondesignatedMemberus-gaap:ForeignExchangeForwardMember2021-11-300001803599us-gaap:NondesignatedMemberus-gaap:Foreig\n"
     ]
    }
   ],
   "source": [
    "htmlFile = open(globs[1])\n",
    "soup = BS(htmlFile)\n",
    "print(soup.body.text[0:10000])"
   ]
  },
  {
   "cell_type": "code",
   "execution_count": 23,
   "id": "2b01bf2d",
   "metadata": {},
   "outputs": [
    {
     "data": {
      "text/plain": [
       "['Fiscal 2021 Fiscal 2020 Quarter High Low High Low First $ 34.51 $ 18.99 $ 14.47 $ 11.40 Second $ 37.40 $ 25.08 $ 13.26 $ 8.00 Third $ 39.74 $ 26.67 $ 12.28 $ 7.85 Fourth $ 56.35 $ 35.11 $ 19.56 $ 12.13 Issuer Purchases of Equity Securities On April 26, 2018, the Company’s Board of Directors authorized a stock repurchase program for up to 500,000 shares of the Company’s stock.',\n",
       " 'As of September 3, 2021, there have been no repurchases of equity securities under the above-referenced stock repurchase program.',\n",
       " 'The overall increase is primarily due to $1.2 million interest earned from repurchase agreements and $0.2 million of interest income earned from spot deferred trade orders.',\n",
       " 'As of June 30, 2021 and June 30, 2020, included within inventories is $ 75.1 million and $ 71.0 million, respectively, of precious metals products subject to repurchase arrangements with customers.',\n",
       " \"Interest Income During the years ended June 30, 2021 and 2020, the Company earned interest income related to loans made to Stack's Bowers and from financing arrangements (including repurchase agreements) with affiliated companies, as set forth below: in thousands Years Ended June 30, 2021 June 30, 2020 Interest income from secured loans receivables $ 249 $ 917 Interest income from finance products and repurchase arrangements 8,042 (1) 6,341 $ 8,291 $ 7,258 (1) Includes JMB’s interest income from the beginning of the period through the Acquisition Date.\",\n",
       " \"Share Repurchase Program In April 2018, the Company's Board of Directors approved a share repurchase program which authorizes the Company to purchase up to 500,000 shares of its common stock from time to time, either in the open market or in block purchase transactions.\",\n",
       " 'As of June 30, 2021, no shares had been repurchased under the program.']"
      ]
     },
     "execution_count": 23,
     "metadata": {},
     "output_type": "execute_result"
    }
   ],
   "source": [
    "def remove_tags(htmlFile):\n",
    "  \n",
    "    # parse html content\n",
    "    soup = BS(htmlFile)\n",
    "  \n",
    "    for data in soup(['style', 'script']):\n",
    "        # Remove tags\n",
    "        data.decompose()\n",
    "  \n",
    "    # return data by retrieving the tag content\n",
    "    return ' '.join(soup.stripped_strings)\n",
    "\n",
    "htmlFile = open(globs[0])\n",
    "\n",
    "text = remove_tags(htmlFile)\n",
    "\n",
    "\n",
    "\n",
    "sentences = sent_tokenize(text)\n",
    "repurchase_sent = [x for x in sentences if 'repurchas' in x]\n",
    "repurchase_sent = [x for x in repurchase_sent if re.search(r'\\d', x)]\n",
    "repurchase_sent = [x.replace('\\xa0', \" \") for x in repurchase_sent]\n",
    "repurchase_sent"
   ]
  },
  {
   "cell_type": "code",
   "execution_count": 24,
   "id": "48b1c26f",
   "metadata": {},
   "outputs": [],
   "source": [
    "nlp = spacy.load('en_core_web_md')"
   ]
  },
  {
   "cell_type": "code",
   "execution_count": 28,
   "id": "f7fe9ccb",
   "metadata": {},
   "outputs": [],
   "source": [
    "from spacy.matcher import DependencyMatcher\n",
    "matcher = DependencyMatcher(nlp.vocab)"
   ]
  },
  {
   "cell_type": "code",
   "execution_count": 80,
   "id": "3f56c38a",
   "metadata": {},
   "outputs": [],
   "source": [
    "pattern = [\n",
    "    {\n",
    "        \"RIGHT_ID\": \"anchor_authorized\",\n",
    "        \"RIGHT_ATTRS\":{\"LEMMA\": 'authorize'}\n",
    "    },\n",
    "    {\n",
    "        'LEFT_ID': 'anchor_authorized',\n",
    "        'REL_OP': '>>',\n",
    "        'RIGHT_ID': 'auhorized_subj',\n",
    "        'RIGHT_ATTRS' : {'DEP' : 'nsubj'}\n",
    "    },\n",
    "    {\n",
    "        'LEFT_ID': \"anchor_authorized\",\n",
    "        'REL_OP' : '>>',\n",
    "        'RIGHT_ID' : 'authorized_prep',\n",
    "        'RIGHT_ATTRS' : {'DEP' : 'prep'}\n",
    "    },\n",
    "    {\n",
    "        'LEFT_ID': \"authorized_prep\",\n",
    "        'REL_OP' : '>>',\n",
    "        'RIGHT_ID' : 'prep_object',\n",
    "        'RIGHT_ATTRS' : {'DEP' : 'pobj'}\n",
    "    },\n",
    "    {\n",
    "        'LEFT_ID': \"prep_object\",\n",
    "        'REL_OP' : '.',\n",
    "        'RIGHT_ID' : 'amount_pobj',\n",
    "        'RIGHT_ATTRS' : {'DEP' : 'nummod'}\n",
    "    }\n",
    "]"
   ]
  },
  {
   "cell_type": "code",
   "execution_count": 81,
   "id": "60a99d91",
   "metadata": {},
   "outputs": [],
   "source": [
    "matcher.add('AUTHORIZED', [pattern])\n",
    "doc = nlp(\"On April 26, 2018, the Company’s Board of Directors authorized a stock repurchase program for up to 500,000 shares of the Company’s stock.\")"
   ]
  },
  {
   "cell_type": "code",
   "execution_count": 82,
   "id": "2149e27e",
   "metadata": {},
   "outputs": [
    {
     "name": "stdout",
     "output_type": "stream",
     "text": [
      "[(14036459411071875226, [12, 9, 0, 1, 2]), (14036459411071875226, [12, 9, 0, 1, 2]), (14036459411071875226, [12, 9, 0, 1, 2]), (14036459411071875226, [12, 9, 0, 1, 2]), (14036459411071875226, [12, 9, 17, 21, 20]), (14036459411071875226, [12, 9, 17, 21, 20]), (14036459411071875226, [12, 9, 0, 1, 2]), (14036459411071875226, [12, 9, 0, 1, 2])]\n"
     ]
    }
   ],
   "source": [
    "matches = matcher(doc)\n",
    "print(matches)"
   ]
  },
  {
   "cell_type": "code",
   "execution_count": 84,
   "id": "f358725b",
   "metadata": {},
   "outputs": [
    {
     "name": "stdout",
     "output_type": "stream",
     "text": [
      "anchor_authorized: authorized\n",
      "auhorized_subj: Board\n",
      "authorized_prep: On\n",
      "prep_object: April\n",
      "amount_pobj: 26\n"
     ]
    }
   ],
   "source": [
    "match_id, token_ids = matches[1]\n",
    "for i in range(len(token_ids)):\n",
    "    print(pattern[i][\"RIGHT_ID\"] + \":\", doc[token_ids[i]].text)"
   ]
  },
  {
   "cell_type": "code",
   "execution_count": null,
   "id": "f493df47",
   "metadata": {},
   "outputs": [],
   "source": []
  }
 ],
 "metadata": {
  "kernelspec": {
   "display_name": "Python 3 (ipykernel)",
   "language": "python",
   "name": "python3"
  },
  "language_info": {
   "codemirror_mode": {
    "name": "ipython",
    "version": 3
   },
   "file_extension": ".py",
   "mimetype": "text/x-python",
   "name": "python",
   "nbconvert_exporter": "python",
   "pygments_lexer": "ipython3",
   "version": "3.10.3"
  }
 },
 "nbformat": 4,
 "nbformat_minor": 5
}
